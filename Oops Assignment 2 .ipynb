{
 "cells": [
  {
   "cell_type": "raw",
   "id": "c48f4e21-b725-4139-a059-197509666ad6",
   "metadata": {},
   "source": [
    "Q1. What is Abstraction in OOps? Explain with an example."
   ]
  },
  {
   "cell_type": "code",
   "execution_count": 7,
   "id": "aa14b9b7-7b82-4efa-b54c-0b94f2c81070",
   "metadata": {},
   "outputs": [],
   "source": [
    "#  ANS : Abstraction is the process of hiding the internal details of an application from the outer world.\n",
    "# Abstraction is used to describe things in simple terms. It's used to create a boundary between the application and the client programs.\n",
    "\n",
    "\n",
    "from abc import ABC, abstractmethod\n",
    "\n",
    "# Abstract base class for shapes\n",
    "class Shape(ABC):\n",
    "    @abstractmethod\n",
    "    def calculate_area(self):\n",
    "        pass\n",
    "\n",
    "    @abstractmethod\n",
    "    def calculate_perimeter(self):\n",
    "        pass\n",
    "\n",
    "# Concrete class: Circle\n",
    "class Circle(Shape):\n",
    "    def __init__(self, radius):\n",
    "        self.radius = radius\n",
    "\n",
    "    def calculate_area(self):\n",
    "        return 3.14 * self.radius * self.radius\n",
    "\n",
    "    def calculate_perimeter(self):\n",
    "        return 2 * 3.14 * self.radius\n",
    "\n",
    "# Concrete class: Rectangle\n",
    "class Rectangle(Shape):\n",
    "    def __init__(self, length, width):\n",
    "        self.length = length\n",
    "        self.width = width\n",
    "\n",
    "    def calculate_area(self):\n",
    "        return self.length * self.width\n",
    "\n",
    "    def calculate_perimeter(self):\n",
    "        return 2 * (self.length + self.width)\n",
    "\n",
    "# Concrete class: Triangle\n",
    "class Triangle(Shape):\n",
    "    def __init__(self, base, height):\n",
    "        self.base = base\n",
    "        self.height = height\n",
    "\n",
    "    def calculate_area(self):\n",
    "        return 0.5 * self.base * self.height\n",
    "\n",
    "    def calculate_perimeter(self):\n",
    "        # For simplicity, assuming it's an equilateral triangle\n",
    "        return 3 * self.base\n"
   ]
  },
  {
   "cell_type": "raw",
   "id": "0eacd1b5-a488-48c8-a9e2-0be983db5cff",
   "metadata": {},
   "source": [
    "Q2. Differentiate between Abstraction and Encapsulation. Explain with an example."
   ]
  },
  {
   "cell_type": "code",
   "execution_count": 1,
   "id": "7c76c59c-78ed-4376-b459-dc1851c1ad8d",
   "metadata": {},
   "outputs": [],
   "source": [
    "# ANS :  Abstraction is the process of simplifying complex systems by modeling classes based on the essential properties and behaviors they share. \n",
    "#It involves hiding the unnecessary details and exposing only the relevant features of an object.\n",
    "#Abstraction helps in managing complexity, focusing on essential characteristics, and promoting code reusability.\n",
    "\n",
    "# Encapsulation is the bundling of data and the methods that operate on the data into a single unit, known as a class. \n",
    "#It restricts access to some of the object's components, providing a protective barrier around an object's internal state.\n",
    "# Encapsulation helps in preventing accidental modification of data, promoting data integrity, and hiding the implementation details from the outside world.\n",
    "\n",
    "\n",
    "# Abstraction Example :\n",
    "\n",
    "from abc import ABC, abstractmethod\n",
    "\n",
    "class Shape(ABC):\n",
    "    @abstractmethod\n",
    "    def calculate_area(self):\n",
    "        pass\n",
    "\n",
    "    @abstractmethod\n",
    "    def calculate_perimeter(self):\n",
    "        pass\n",
    "\n",
    "class Circle(Shape):\n",
    "    def __init__(self, radius):\n",
    "        self.radius = radius\n",
    "\n",
    "    def calculate_area(self):\n",
    "        return 3.14 * self.radius * self.radius\n",
    "\n",
    "    def calculate_perimeter(self):\n",
    "        return 2 * 3.14 * self.radius\n",
    "\n",
    "\n",
    "\n",
    "# Encapsulation Example : \n",
    "\n",
    "class BankAccount:\n",
    "    def __init__(self, account_holder, balance):\n",
    "        self._account_holder = account_holder  \n",
    "        self._balance = balance               \n",
    "\n",
    "    def deposit(self, amount):\n",
    "        self._balance += amount\n",
    "\n",
    "    def withdraw(self, amount):\n",
    "        if amount <= self._balance:\n",
    "            self._balance -= amount\n",
    "        else:\n",
    "            print(\"Insufficient funds\")\n",
    "\n",
    "    def get_balance(self):\n",
    "        return self._balance\n",
    "\n"
   ]
  },
  {
   "cell_type": "raw",
   "id": "cdabe0d7-261b-4b13-bb30-0e6b47826fb4",
   "metadata": {},
   "source": [
    "Q3. What is abc module in python? Why is it used?"
   ]
  },
  {
   "cell_type": "code",
   "execution_count": null,
   "id": "77e146c1-84e9-46b2-9a1c-9ee7a2d787a9",
   "metadata": {},
   "outputs": [],
   "source": [
    "# ANS : The abc module in Python stands for \"Abstract Base Classes,It provides a mechanism for defining abstract classes and enforcing the presence of certain methods in derived  classes.\n",
    "# The primary purpose of the abc module is to support abstraction and the creation of abstract base classes.\n",
    "# Abstract classes enable polymorphism by allowing objects of different classes to be used interchangeably if they share a common abstract base class.\n",
    "# Abstract base classes provide a common base for related classes, promoting a consistent structure and behavior across a class hierarchy."
   ]
  },
  {
   "cell_type": "raw",
   "id": "edc25607-fa04-4bc9-a6ee-52200f248702",
   "metadata": {},
   "source": [
    "Q4. How can we achieve data abstraction?"
   ]
  },
  {
   "cell_type": "code",
   "execution_count": 4,
   "id": "96ea2136-1d57-4cca-ab7d-0705b8aff408",
   "metadata": {},
   "outputs": [
    {
     "name": "stdout",
     "output_type": "stream",
     "text": [
      "78.5\n",
      "31.400000000000002\n"
     ]
    }
   ],
   "source": [
    "# ANS : In object-oriented programming, abstract classes and interfaces allow you to achieve data abstraction by defining abstract methods that must be implemented by concrete subclasses.\n",
    "# Abstract classes provide a blueprint for concrete classes, while interfaces define a contract that concrete classes must adhere to.\n",
    "# By defining abstract methods, you can specify the operations that should be supported without detailing how they are implemented.\n",
    "\n",
    "\n",
    "\n",
    "from abc import ABC, abstractmethod\n",
    "\n",
    "# Abstract class\n",
    "class Shape(ABC):\n",
    "    @abstractmethod\n",
    "    def area(self):\n",
    "        pass\n",
    "\n",
    "    @abstractmethod\n",
    "    def perimeter(self):\n",
    "        pass\n",
    "\n",
    "# Concrete class: Circle\n",
    "class Circle(Shape):\n",
    "    def __init__(self, radius):\n",
    "        self.radius = radius\n",
    "\n",
    "    def area(self):\n",
    "        return 3.14 * self.radius ** 2\n",
    "\n",
    "    def perimeter(self):\n",
    "        return 2 * 3.14 * self.radius\n",
    "\n",
    "my_circle = Circle(radius=5)\n",
    "print(my_circle.area())       \n",
    "print(my_circle.perimeter())  \n"
   ]
  },
  {
   "cell_type": "raw",
   "id": "6eb82dbd-8c4d-41e0-b2ce-42e284621db9",
   "metadata": {},
   "source": [
    "Q5. Can we create an instance of an abstract class? Explain your answer."
   ]
  },
  {
   "cell_type": "code",
   "execution_count": null,
   "id": "33c183c5-652d-45ed-b111-03202107cc21",
   "metadata": {},
   "outputs": [],
   "source": [
    "# ANS : No, you cannot create an instance of an abstract class in Python. \n",
    " # Abstract classes are meant to be incomplete and serve as a blueprint for other classes.\n",
    " # They are designed to be subclassed, and the abstract methods within them must be implemented by concrete (non-abstract) subclasses.\n",
    " # Attempting to instantiate an abstract class directly will result in a TypeError.\n",
    " # Abstract classes are intended to be subclassed, and their abstract methods must be implemented in the concrete subclasses.\n"
   ]
  },
  {
   "cell_type": "code",
   "execution_count": null,
   "id": "b7de8e8f-54cf-420f-998c-22c2d1938103",
   "metadata": {},
   "outputs": [],
   "source": []
  },
  {
   "cell_type": "code",
   "execution_count": null,
   "id": "9295d003-038d-4ce8-b894-e72ece7daef6",
   "metadata": {},
   "outputs": [],
   "source": []
  },
  {
   "cell_type": "code",
   "execution_count": null,
   "id": "daf292b9-6681-4233-acc5-e91dec1fee98",
   "metadata": {},
   "outputs": [],
   "source": []
  },
  {
   "cell_type": "code",
   "execution_count": null,
   "id": "9597cab1-6592-4f57-b547-085534a77383",
   "metadata": {},
   "outputs": [],
   "source": []
  }
 ],
 "metadata": {
  "kernelspec": {
   "display_name": "Python 3 (ipykernel)",
   "language": "python",
   "name": "python3"
  },
  "language_info": {
   "codemirror_mode": {
    "name": "ipython",
    "version": 3
   },
   "file_extension": ".py",
   "mimetype": "text/x-python",
   "name": "python",
   "nbconvert_exporter": "python",
   "pygments_lexer": "ipython3",
   "version": "3.10.8"
  }
 },
 "nbformat": 4,
 "nbformat_minor": 5
}
